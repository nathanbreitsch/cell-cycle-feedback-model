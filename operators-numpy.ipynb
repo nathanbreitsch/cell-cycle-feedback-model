{
 "cells": [
  {
   "cell_type": "code",
   "execution_count": null,
   "id": "warming-paragraph",
   "metadata": {},
   "outputs": [],
   "source": [
    "import numpy as np\n",
    "from matplotlib import pyplot as plt\n",
    "from numpy import linalg"
   ]
  },
  {
   "cell_type": "code",
   "execution_count": null,
   "id": "scheduled-mandate",
   "metadata": {},
   "outputs": [],
   "source": [
    "def beta_fn(n, sigma):\n",
    "    return -1 * (1 + sigma) / n / 2\n",
    "\n",
    "def de1(n, rho, sigma, beta):\n",
    "    matrix = np.eye(n)\n",
    "    matrix[:rho+1, sigma] -= 1\n",
    "    matrix[rho+1:, sigma] -= (1 + beta)\n",
    "    return matrix\n",
    "        \n",
    "def de2(n, rho, beta):\n",
    "    matrix = np.eye(n)\n",
    "    matrix[:rho+1, rho] -= 1\n",
    "    matrix[rho+1:, rho] -= (1 + beta)\n",
    "    return matrix\n",
    "        \n",
    "def de3(n, rho, beta):\n",
    "    matrix = np.eye(n)\n",
    "    matrix[:rho+1, n-1] -= 1 / (1 + beta)\n",
    "    matrix[rho+1:, n-1] -= 1\n",
    "    return matrix\n",
    "        \n",
    "def de4(n):\n",
    "    matrix = np.eye(n)\n",
    "    idx = [-1] + list(range(n-1))\n",
    "    matrix = matrix[idx]\n",
    "    return matrix\n"
   ]
  },
  {
   "cell_type": "code",
   "execution_count": null,
   "id": "usual-giant",
   "metadata": {},
   "outputs": [],
   "source": [
    "def compute_dF(n, sigma, rho, sfirst):\n",
    "    if sfirst:\n",
    "        return (\n",
    "            de4(n) @\n",
    "            de3(n, rho-1, beta_fn(n, sigma - 1)) @\n",
    "            de2(n, rho, beta_fn(n, sigma - 1)) @\n",
    "            de1(n, rho, sigma, beta_fn(n, sigma))\n",
    "        )[1:, 1:]\n",
    "    else:\n",
    "        return (\n",
    "            de4(n) @\n",
    "            de3(n, rho-1, beta_fn(n, sigma - 1)) @\n",
    "            de1(n, rho-1, sigma, beta_fn(n, sigma)) @\n",
    "            de2(n, rho, beta_fn(n, sigma))\n",
    "        )[1:, 1:]"
   ]
  },
  {
   "cell_type": "code",
   "execution_count": null,
   "id": "dimensional-romania",
   "metadata": {},
   "outputs": [],
   "source": [
    "def determine_stability(n, sigma, rho, sfirst):\n",
    "    dF = compute_dF(n, sigma, rho, sfirst)\n",
    "    max_eig_norm = np.abs(linalg.eigvals(dF)).max()\n",
    "    epsilon = 1e-6\n",
    "    if max_eig_norm > 1 + epsilon:\n",
    "        return 'unstable'\n",
    "    elif max_eig_norm < 1 - epsilon:\n",
    "        return 'stable'\n",
    "    else:\n",
    "        return 'neutral'"
   ]
  },
  {
   "cell_type": "code",
   "execution_count": null,
   "id": "hourly-administration",
   "metadata": {},
   "outputs": [],
   "source": [
    "n = 9\n",
    "plt.fill([0, 0, n], [0, n, n], fill=None)\n",
    "color_map = {\n",
    "    'stable': 'blue',\n",
    "    'unstable': 'red',\n",
    "    'neutral': 'white'\n",
    "}\n",
    "for sigma in range(n):\n",
    "    for rho in range(sigma, n):\n",
    "        stability = determine_stability(n, sigma, rho, sfirst=True)\n",
    "        color = color_map[stability]\n",
    "        plt.fill(\n",
    "            [sigma, sigma, sigma+1], \n",
    "            [rho, rho+1, rho+1], \n",
    "            color, \n",
    "            label=1\n",
    "        )\n",
    "        if rho > sigma:\n",
    "            stability = determine_stability(n, sigma, rho, sfirst=False)\n",
    "            color = color_map[stability]\n",
    "            plt.fill(\n",
    "                [sigma, sigma+1, sigma+1], \n",
    "                [rho, rho, rho+1], \n",
    "                color\n",
    "            )"
   ]
  },
  {
   "cell_type": "code",
   "execution_count": null,
   "id": "typical-split",
   "metadata": {},
   "outputs": [],
   "source": []
  }
 ],
 "metadata": {
  "kernelspec": {
   "display_name": "Python 3",
   "language": "python",
   "name": "python3"
  },
  "language_info": {
   "codemirror_mode": {
    "name": "ipython",
    "version": 3
   },
   "file_extension": ".py",
   "mimetype": "text/x-python",
   "name": "python",
   "nbconvert_exporter": "python",
   "pygments_lexer": "ipython3",
   "version": "3.8.5"
  }
 },
 "nbformat": 4,
 "nbformat_minor": 5
}
